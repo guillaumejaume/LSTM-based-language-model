{
 "cells": [
  {
   "cell_type": "raw",
   "metadata": {},
   "source": [
    "Preprocess"
   ]
  },
  {
   "cell_type": "code",
   "execution_count": 1,
   "metadata": {},
   "outputs": [],
   "source": [
    "import preprocess_helper"
   ]
  },
  {
   "cell_type": "code",
   "execution_count": 2,
   "metadata": {},
   "outputs": [],
   "source": [
    "# define a class PreprocessConfig \n",
    "class PreprocessConfig():\n",
    "  \n",
    "  def __init__(self, path_to_config_file=None):\n",
    "    if path_to_config_file:\n",
    "      self.read(path_to_preprocess_config_file)\n",
    "    else:\n",
    "      # default constructor \n",
    "      self.remove_punctuation = True   # define if the punctuation is removed from the input data\n",
    "      self.input_file_name = 'data/sentences.train'\n",
    "      self.k_frequent_words = 20000\n",
    "      self.frequent_words_file_name = 'data/k_frequent_words.txt'\n",
    "      \n",
    "  def read(self, path_to_config_file):\n",
    "    with open(path_to_config_file) as data_file:    \n",
    "      raw = json.load(data_file)\n",
    "    \n",
    "      self.remove_puncutation = raw['remove_punctuation']\n",
    "      self.input_file_name = raw['input_file_name']\n",
    "      self.k_frequent_words = raw['k_frequent_words']\n",
    "      self.frequent_words_file_name = raw['frequent_words_file_name']"
   ]
  },
  {
   "cell_type": "code",
   "execution_count": 3,
   "metadata": {},
   "outputs": [],
   "source": [
    "def main():\n",
    "    config = PreprocessConfig()\n",
    "    top_k_words = preprocess_helper.generate_top_k_words(config.input_file_name, config.remove_punctuation, config.k_frequent_words)\n",
    "    preprocess_helper.write_list_to_file(top_k_words, config.frequent_words_file_name)\n",
    "\n",
    "if __name__ == \"__main__\":\n",
    "  main()"
   ]
  },
  {
   "cell_type": "code",
   "execution_count": null,
   "metadata": {},
   "outputs": [],
   "source": []
  }
 ],
 "metadata": {
  "kernelspec": {
   "display_name": "Python 3",
   "language": "python",
   "name": "python3"
  },
  "language_info": {
   "codemirror_mode": {
    "name": "ipython",
    "version": 3
   },
   "file_extension": ".py",
   "mimetype": "text/x-python",
   "name": "python",
   "nbconvert_exporter": "python",
   "pygments_lexer": "ipython3",
   "version": "3.6.4"
  }
 },
 "nbformat": 4,
 "nbformat_minor": 2
}
